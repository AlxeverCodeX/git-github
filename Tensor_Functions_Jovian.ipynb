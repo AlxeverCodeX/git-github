{
  "nbformat": 4,
  "nbformat_minor": 0,
  "metadata": {
    "kernelspec": {
      "display_name": "Python 3",
      "language": "python",
      "name": "python3"
    },
    "language_info": {
      "codemirror_mode": {
        "name": "ipython",
        "version": 3
      },
      "file_extension": ".py",
      "mimetype": "text/x-python",
      "name": "python",
      "nbconvert_exporter": "python",
      "pygments_lexer": "ipython3",
      "version": "3.8.5"
    },
    "colab": {
      "name": "Tensor-Functions_Jovian.ipynb",
      "provenance": [],
      "include_colab_link": true
    }
  },
  "cells": [
    {
      "cell_type": "markdown",
      "metadata": {
        "id": "view-in-github",
        "colab_type": "text"
      },
      "source": [
        "<a href=\"https://colab.research.google.com/github/AlxeverCodeX/git-github/blob/master/Tensor_Functions_Jovian.ipynb\" target=\"_parent\"><img src=\"https://colab.research.google.com/assets/colab-badge.svg\" alt=\"Open In Colab\"/></a>"
      ]
    },
    {
      "cell_type": "code",
      "metadata": {
        "id": "GsmRK3UkSSII"
      },
      "source": [
        "# Jovian Commit Essentials\n",
        "# Please retain and execute this cell without modifying the contents for `jovian.commit` to work\n",
        "!pip install jovian --upgrade -q\n",
        "import jovian\n",
        "jovian.utils.colab.set_colab_file_id('1Lj-DdsmBZhZrp-Z3jQ8vYs5a2B4nFGKn')"
      ],
      "execution_count": 36,
      "outputs": []
    },
    {
      "cell_type": "markdown",
      "metadata": {
        "id": "nqRglk1cSSIe"
      },
      "source": [
        "# Pytorch Fuctions\n",
        "\n",
        "PyTorch is a Machine Learning library with increasing popularity.Pytorch is an open source machine learning framework that accelerates the path from research prototyping to production deployment. we will explore five functions available in PyTorch. \n",
        "- torch.rand()\n",
        "- torch.mean()\n",
        "- torch.linspace()\n",
        "- torch.Tensor.filldiagonal()\n",
        "-torch.view(shape)\n",
        "\n",
        "Before we begin, let's install and import PyTorch"
      ]
    },
    {
      "cell_type": "code",
      "metadata": {
        "id": "BHo9fywZSSIl"
      },
      "source": [
        "# Uncomment and run the appropriate command for your operating system, if required\n",
        "\n",
        "# Linux / Binder\n",
        "# !pip install numpy torch==1.7.0+cpu torchvision==0.8.1+cpu torchaudio==0.7.0 -f https://download.pytorch.org/whl/torch_stable.html\n",
        "\n",
        "# Windows\n",
        "# !pip install numpy torch==1.7.0+cpu torchvision==0.8.1+cpu torchaudio==0.7.0 -f https://download.pytorch.org/whl/torch_stable.html\n",
        "\n",
        "# MacOS\n",
        "# !pip install numpy torch torchvision torchaudio"
      ],
      "execution_count": 37,
      "outputs": []
    },
    {
      "cell_type": "code",
      "metadata": {
        "id": "2OlR7PL4SSIn"
      },
      "source": [
        "# Import torch and other required modules\n",
        "import torch"
      ],
      "execution_count": 38,
      "outputs": []
    },
    {
      "cell_type": "markdown",
      "metadata": {
        "id": "56cANsYASSIq"
      },
      "source": [
        "## torch.rand()\n",
        "This function returns a tensor filled with random numbers from a uniform distribution on the interval [0,1). Some of its parameters are listed below:\n",
        "size (int) — a sequence of integers defining the shape of the output tensor. Can be a variable number of arguments or a collection like a list or tuple.\n",
        "dtype (torch.dtype, optional) — the desired data type of returned tensor. Default: if None, uses a global default (see torch.set_default_tensor_type()).\n",
        "requires_grad (bool, optional) — If autograd should record operations on the returned tensor. Default: False."
      ]
    },
    {
      "cell_type": "code",
      "metadata": {
        "colab": {
          "base_uri": "https://localhost:8080/"
        },
        "id": "wx3vO-wSSSIt",
        "outputId": "f2920c1b-b8b7-4795-e651-95658cd398c5"
      },
      "source": [
        "# Example 1 - working (change this)\n",
        "torch.rand(9)"
      ],
      "execution_count": 39,
      "outputs": [
        {
          "output_type": "execute_result",
          "data": {
            "text/plain": [
              "tensor([0.0584, 0.0304, 0.4461, 0.3461, 0.5811, 0.8035, 0.0288, 0.2315, 0.0577])"
            ]
          },
          "metadata": {
            "tags": []
          },
          "execution_count": 39
        }
      ]
    },
    {
      "cell_type": "markdown",
      "metadata": {
        "id": "dRD8ojtBSSI3"
      },
      "source": [
        "we got a tensor vector of 9 elements in the interval [0,1)."
      ]
    },
    {
      "cell_type": "code",
      "metadata": {
        "colab": {
          "base_uri": "https://localhost:8080/"
        },
        "id": "yV6xOlFdSSI5",
        "outputId": "9bb82505-01d5-4f19-f7e0-e6209455973a"
      },
      "source": [
        "# Example 2 - working\r\n",
        "torch.rand(3,4)"
      ],
      "execution_count": 40,
      "outputs": [
        {
          "output_type": "execute_result",
          "data": {
            "text/plain": [
              "tensor([[0.0837, 0.8230, 0.7204, 0.8742],\n",
              "        [0.8559, 0.3983, 0.7658, 0.9214],\n",
              "        [0.7901, 0.2214, 0.3789, 0.1738]])"
            ]
          },
          "metadata": {
            "tags": []
          },
          "execution_count": 40
        }
      ]
    },
    {
      "cell_type": "markdown",
      "metadata": {
        "id": "HQpGrsMMSSI7"
      },
      "source": [
        "we get a tensor of shape 3x4 with elements in the interval [0,1)"
      ]
    },
    {
      "cell_type": "code",
      "metadata": {
        "colab": {
          "base_uri": "https://localhost:8080/",
          "height": 197
        },
        "id": "o4g2CN2qSSI8",
        "outputId": "2f910827-8f00-49e8-b8d7-885bf10faf51"
      },
      "source": [
        "# Example 3 - breaking (to illustrate when it breaks)\n",
        "tens3=torch.tensor([[1, 2], [3, 4, 5]])\n",
        "print(tens3)"
      ],
      "execution_count": 41,
      "outputs": [
        {
          "output_type": "error",
          "ename": "ValueError",
          "evalue": "ignored",
          "traceback": [
            "\u001b[0;31m---------------------------------------------------------------------------\u001b[0m",
            "\u001b[0;31mValueError\u001b[0m                                Traceback (most recent call last)",
            "\u001b[0;32m<ipython-input-41-576bdbccd4bf>\u001b[0m in \u001b[0;36m<module>\u001b[0;34m()\u001b[0m\n\u001b[1;32m      1\u001b[0m \u001b[0;31m# Example 3 - breaking (to illustrate when it breaks)\u001b[0m\u001b[0;34m\u001b[0m\u001b[0;34m\u001b[0m\u001b[0;34m\u001b[0m\u001b[0m\n\u001b[0;32m----> 2\u001b[0;31m \u001b[0mtens3\u001b[0m\u001b[0;34m=\u001b[0m\u001b[0mtorch\u001b[0m\u001b[0;34m.\u001b[0m\u001b[0mtensor\u001b[0m\u001b[0;34m(\u001b[0m\u001b[0;34m[\u001b[0m\u001b[0;34m[\u001b[0m\u001b[0;36m1\u001b[0m\u001b[0;34m,\u001b[0m \u001b[0;36m2\u001b[0m\u001b[0;34m]\u001b[0m\u001b[0;34m,\u001b[0m \u001b[0;34m[\u001b[0m\u001b[0;36m3\u001b[0m\u001b[0;34m,\u001b[0m \u001b[0;36m4\u001b[0m\u001b[0;34m,\u001b[0m \u001b[0;36m5\u001b[0m\u001b[0;34m]\u001b[0m\u001b[0;34m]\u001b[0m\u001b[0;34m)\u001b[0m\u001b[0;34m\u001b[0m\u001b[0;34m\u001b[0m\u001b[0m\n\u001b[0m\u001b[1;32m      3\u001b[0m \u001b[0mprint\u001b[0m\u001b[0;34m(\u001b[0m\u001b[0mtens3\u001b[0m\u001b[0;34m)\u001b[0m\u001b[0;34m\u001b[0m\u001b[0;34m\u001b[0m\u001b[0m\n",
            "\u001b[0;31mValueError\u001b[0m: expected sequence of length 2 at dim 1 (got 3)"
          ]
        }
      ]
    },
    {
      "cell_type": "markdown",
      "metadata": {
        "id": "CxCY0PfVSSI-"
      },
      "source": [
        "The function breaks when an element is added to the tensor that does not satisfy the dimensions of the tensor/matrix."
      ]
    },
    {
      "cell_type": "markdown",
      "metadata": {
        "id": "scE4EdesSSJD"
      },
      "source": [
        "Closing comments about when to use this function"
      ]
    },
    {
      "cell_type": "markdown",
      "metadata": {
        "id": "LLOeyHx8SSJE"
      },
      "source": [
        "Let's save our work using Jovian before continuing."
      ]
    },
    {
      "cell_type": "code",
      "metadata": {
        "id": "tpQsMhALSSJF"
      },
      "source": [
        "!pip install jovian --upgrade --quiet"
      ],
      "execution_count": 42,
      "outputs": []
    },
    {
      "cell_type": "code",
      "metadata": {
        "id": "dTrImYfbSSJG"
      },
      "source": [
        "import jovian"
      ],
      "execution_count": 43,
      "outputs": []
    },
    {
      "cell_type": "code",
      "metadata": {
        "colab": {
          "base_uri": "https://localhost:8080/",
          "height": 123
        },
        "id": "LtLyewZGSSJG",
        "outputId": "598987e5-2896-47a0-fc43-fe276d163dc7"
      },
      "source": [
        "jovian.commit(project='01-tensor-operations')"
      ],
      "execution_count": 44,
      "outputs": [
        {
          "output_type": "stream",
          "text": [
            "[jovian] Detected Colab notebook...\u001b[0m\n",
            "[jovian] Uploading colab notebook to Jovian...\u001b[0m\n",
            "[jovian] Capturing environment..\u001b[0m\n",
            "[jovian] Committed successfully! https://jovian.ai/salberthp89/01-tensor-operations\u001b[0m\n"
          ],
          "name": "stdout"
        },
        {
          "output_type": "execute_result",
          "data": {
            "application/vnd.google.colaboratory.intrinsic+json": {
              "type": "string"
            },
            "text/plain": [
              "'https://jovian.ai/salberthp89/01-tensor-operations'"
            ]
          },
          "metadata": {
            "tags": []
          },
          "execution_count": 44
        }
      ]
    },
    {
      "cell_type": "markdown",
      "metadata": {
        "id": "Q5LC5ibfSSJI"
      },
      "source": [
        "## torch.mean()\n",
        "\n",
        "A  torch.mean function returns the mean or average of your tensor. Some of its parameters are listed below.\n",
        "input (Tensor) — the input tensor.\n",
        "dim (int or tuple of python:ints) — the dimension or dimensions to reduce.\n",
        "keepdim (bool) — whether the output tensor has dim retained or not.\n",
        "out (Tensor, optional) — the output tensor."
      ]
    },
    {
      "cell_type": "code",
      "metadata": {
        "colab": {
          "base_uri": "https://localhost:8080/"
        },
        "id": "g4SVAMMTSSJJ",
        "outputId": "0c897e5f-dbd4-44f1-f30e-366add0dfc3d"
      },
      "source": [
        "# Example 1 - working\r\n",
        "random_tensor = torch.randn((5,3)) #creating a tensor of size 5x3 with randn function\r\n",
        "print(random_tensor)\r\n",
        "torch.mean(random_tensor)"
      ],
      "execution_count": 48,
      "outputs": [
        {
          "output_type": "stream",
          "text": [
            "tensor([[ 0.0540,  0.8718,  0.3673],\n",
            "        [ 1.0008, -0.1043,  0.9659],\n",
            "        [ 0.1389,  0.8262, -0.4942],\n",
            "        [ 0.4942, -1.9824, -0.3379],\n",
            "        [-0.3733,  0.8127, -0.7720]])\n"
          ],
          "name": "stdout"
        },
        {
          "output_type": "execute_result",
          "data": {
            "text/plain": [
              "tensor(0.0978)"
            ]
          },
          "metadata": {
            "tags": []
          },
          "execution_count": 48
        }
      ]
    },
    {
      "cell_type": "markdown",
      "metadata": {
        "id": "fyUEYL8SSSJK"
      },
      "source": [
        "In the cell, by the application of torch.mean() on the tensor vector, we can observe that all the numbers in the tensor vector are added and divided by the number of elements.\r\n"
      ]
    },
    {
      "cell_type": "code",
      "metadata": {
        "colab": {
          "base_uri": "https://localhost:8080/"
        },
        "id": "0YLnM_tYSSJL",
        "outputId": "bda6cdeb-deef-497f-c844-0c50699462b1"
      },
      "source": [
        " #Example 2 - working\r\n",
        "random_tensor = torch.randn((3,5)) #creating a tensor of size 3x5 with randn function\r\n",
        "print(random_tensor)\r\n",
        "#dim=1 for rows and dim=0 for columns\r\n",
        "print(\"\\n dim paramater applied over rows    : \",torch.mean(random_tensor,dim=0)) \r\n",
        "print(\"\\n dim paramater applied over columns : \",torch.mean(random_tensor,dim=1)) "
      ],
      "execution_count": 49,
      "outputs": [
        {
          "output_type": "stream",
          "text": [
            "tensor([[-0.1497, -0.7362,  0.0538,  0.5317, -0.5685],\n",
            "        [-0.5917, -0.4925, -0.2814,  1.4961, -0.5621],\n",
            "        [-1.0043, -1.0576, -0.1995,  1.0184,  0.4052]])\n",
            "\n",
            " dim paramater applied over rows    :  tensor([-0.5819, -0.7621, -0.1424,  1.0154, -0.2418])\n",
            "\n",
            " dim paramater applied over columns :  tensor([-0.1738, -0.0863, -0.1675])\n"
          ],
          "name": "stdout"
        }
      ]
    },
    {
      "cell_type": "markdown",
      "metadata": {
        "id": "CfoEEpWkSSJM"
      },
      "source": [
        "the torch.mean() is applied over a (3,5) tensor with an additional parameter called ‘dim’.This parameter specifies that the average should be taken over rows(for each column, if dim=0) or over columns(for each row, if dim=1)"
      ]
    },
    {
      "cell_type": "code",
      "metadata": {
        "colab": {
          "base_uri": "https://localhost:8080/",
          "height": 214
        },
        "id": "hUKRxEEySSJM",
        "outputId": "b127eafe-e9e7-4969-8217-897b5dc54e80"
      },
      "source": [
        "# Example 3 - breaking (to illustrate when it breaks)\r\n",
        "bool_tensor = torch.tensor([1,0,1]*2,dtype=torch.bool)\r\n",
        "print(bool_tensor)\r\n",
        "torch.mean(bool_tensor)"
      ],
      "execution_count": 50,
      "outputs": [
        {
          "output_type": "stream",
          "text": [
            "tensor([ True, False,  True,  True, False,  True])\n"
          ],
          "name": "stdout"
        },
        {
          "output_type": "error",
          "ename": "RuntimeError",
          "evalue": "ignored",
          "traceback": [
            "\u001b[0;31m---------------------------------------------------------------------------\u001b[0m",
            "\u001b[0;31mRuntimeError\u001b[0m                              Traceback (most recent call last)",
            "\u001b[0;32m<ipython-input-50-a4a88895afc7>\u001b[0m in \u001b[0;36m<module>\u001b[0;34m()\u001b[0m\n\u001b[1;32m      2\u001b[0m \u001b[0mbool_tensor\u001b[0m \u001b[0;34m=\u001b[0m \u001b[0mtorch\u001b[0m\u001b[0;34m.\u001b[0m\u001b[0mtensor\u001b[0m\u001b[0;34m(\u001b[0m\u001b[0;34m[\u001b[0m\u001b[0;36m1\u001b[0m\u001b[0;34m,\u001b[0m\u001b[0;36m0\u001b[0m\u001b[0;34m,\u001b[0m\u001b[0;36m1\u001b[0m\u001b[0;34m]\u001b[0m\u001b[0;34m*\u001b[0m\u001b[0;36m2\u001b[0m\u001b[0;34m,\u001b[0m\u001b[0mdtype\u001b[0m\u001b[0;34m=\u001b[0m\u001b[0mtorch\u001b[0m\u001b[0;34m.\u001b[0m\u001b[0mbool\u001b[0m\u001b[0;34m)\u001b[0m\u001b[0;34m\u001b[0m\u001b[0;34m\u001b[0m\u001b[0m\n\u001b[1;32m      3\u001b[0m \u001b[0mprint\u001b[0m\u001b[0;34m(\u001b[0m\u001b[0mbool_tensor\u001b[0m\u001b[0;34m)\u001b[0m\u001b[0;34m\u001b[0m\u001b[0;34m\u001b[0m\u001b[0m\n\u001b[0;32m----> 4\u001b[0;31m \u001b[0mtorch\u001b[0m\u001b[0;34m.\u001b[0m\u001b[0mmean\u001b[0m\u001b[0;34m(\u001b[0m\u001b[0mbool_tensor\u001b[0m\u001b[0;34m)\u001b[0m\u001b[0;34m\u001b[0m\u001b[0;34m\u001b[0m\u001b[0m\n\u001b[0m",
            "\u001b[0;31mRuntimeError\u001b[0m: Can only calculate the mean of floating types. Got Bool instead."
          ]
        }
      ]
    },
    {
      "cell_type": "markdown",
      "metadata": {
        "id": "6EP4MoaSSSJN"
      },
      "source": [
        " we get the run-time error “Can only calculate the mean of floating types. Got Bool instead.” This means that torch.mean() can only be applied on floating types and rest all other cases fail."
      ]
    },
    {
      "cell_type": "markdown",
      "metadata": {
        "id": "cFsnrRZvSSJN"
      },
      "source": [
        "his function can be used when someone wants to calculate the average of a tensor like when we want to use Root Mean Squared Error (RMSE) as loss function.\r\n"
      ]
    },
    {
      "cell_type": "code",
      "metadata": {
        "colab": {
          "base_uri": "https://localhost:8080/",
          "height": 123
        },
        "id": "vkiAgQHwSSJO",
        "outputId": "10924a62-15ae-475c-fa72-b95b1f23cc73"
      },
      "source": [
        "jovian.commit(project='01-tensor-operations')"
      ],
      "execution_count": 51,
      "outputs": [
        {
          "output_type": "stream",
          "text": [
            "[jovian] Detected Colab notebook...\u001b[0m\n",
            "[jovian] Uploading colab notebook to Jovian...\u001b[0m\n",
            "[jovian] Capturing environment..\u001b[0m\n",
            "[jovian] Committed successfully! https://jovian.ai/salberthp89/01-tensor-operations\u001b[0m\n"
          ],
          "name": "stdout"
        },
        {
          "output_type": "execute_result",
          "data": {
            "application/vnd.google.colaboratory.intrinsic+json": {
              "type": "string"
            },
            "text/plain": [
              "'https://jovian.ai/salberthp89/01-tensor-operations'"
            ]
          },
          "metadata": {
            "tags": []
          },
          "execution_count": 51
        }
      ]
    },
    {
      "cell_type": "markdown",
      "metadata": {
        "id": "xE3jXu_ASSJP"
      },
      "source": [
        "## torch.linspace()\n",
        "\n",
        "This is used to create a 1D equally spaced tensor between the values start and end . We can specify the size of the tensor with the steps parameters. The default is steps=100"
      ]
    },
    {
      "cell_type": "code",
      "metadata": {
        "colab": {
          "base_uri": "https://localhost:8080/"
        },
        "id": "BfkD2ohdSSJQ",
        "outputId": "b3f17250-eb59-4089-ad5a-c4762a681160"
      },
      "source": [
        "# Example 1 - working\r\n",
        "torch.linspace(-10,4,25)\r\n"
      ],
      "execution_count": 52,
      "outputs": [
        {
          "output_type": "execute_result",
          "data": {
            "text/plain": [
              "tensor([-10.0000,  -9.4167,  -8.8333,  -8.2500,  -7.6667,  -7.0833,  -6.5000,\n",
              "         -5.9167,  -5.3333,  -4.7500,  -4.1667,  -3.5833,  -3.0000,  -2.4167,\n",
              "         -1.8333,  -1.2500,  -0.6667,  -0.0833,   0.5000,   1.0833,   1.6667,\n",
              "          2.2500,   2.8333,   3.4167,   4.0000])"
            ]
          },
          "metadata": {
            "tags": []
          },
          "execution_count": 52
        }
      ]
    },
    {
      "cell_type": "markdown",
      "metadata": {
        "id": "uz3j_B_FSSJQ"
      },
      "source": [
        "we see, the start=10,end=4 and steps=25. So, we get 25 equally spaced points between 10 and 4 (both inclusive). By default, PyTorch gives us the elements as floating points."
      ]
    },
    {
      "cell_type": "code",
      "metadata": {
        "colab": {
          "base_uri": "https://localhost:8080/"
        },
        "id": "rvAXCPRdSSJU",
        "outputId": "df3c221c-9173-4ec5-d239-68f1375cee66"
      },
      "source": [
        "# Example 2 - working\r\n",
        "torch.linspace(-10,4,25,dtype=torch.int)"
      ],
      "execution_count": 53,
      "outputs": [
        {
          "output_type": "execute_result",
          "data": {
            "text/plain": [
              "tensor([-10,  -9,  -8,  -8,  -7,  -7,  -6,  -5,  -5,  -4,  -3,  -3,  -2,  -2,\n",
              "         -1,   0,   0,   0,   0,   1,   1,   2,   2,   3,   4],\n",
              "       dtype=torch.int32)"
            ]
          },
          "metadata": {
            "tags": []
          },
          "execution_count": 53
        }
      ]
    },
    {
      "cell_type": "markdown",
      "metadata": {
        "id": "Z3EKWz0ASSJV"
      },
      "source": [
        "we are getting the elements that are of type int32."
      ]
    },
    {
      "cell_type": "code",
      "metadata": {
        "colab": {
          "base_uri": "https://localhost:8080/",
          "height": 248
        },
        "id": "h0P47BRGSSJV",
        "outputId": "c6f0ad39-3ead-470b-b1f6-d70823993749"
      },
      "source": [
        "# Example 3 - breaking (to illustrate when it breaks)\r\n",
        "tensor_ones = torch.ones((1,13))\r\n",
        "print(\"Tensor with ones: \",tensor_ones)\r\n",
        "print(\"Our Linspace tensor: \",torch.linspace(-11,7,13,out=tensor_ones,dtype=torch.int32))\r\n",
        "tensor_ones"
      ],
      "execution_count": 54,
      "outputs": [
        {
          "output_type": "stream",
          "text": [
            "Tensor with ones:  tensor([[1., 1., 1., 1., 1., 1., 1., 1., 1., 1., 1., 1., 1.]])\n"
          ],
          "name": "stdout"
        },
        {
          "output_type": "error",
          "ename": "RuntimeError",
          "evalue": "ignored",
          "traceback": [
            "\u001b[0;31m---------------------------------------------------------------------------\u001b[0m",
            "\u001b[0;31mRuntimeError\u001b[0m                              Traceback (most recent call last)",
            "\u001b[0;32m<ipython-input-54-b67dac3f4878>\u001b[0m in \u001b[0;36m<module>\u001b[0;34m()\u001b[0m\n\u001b[1;32m      2\u001b[0m \u001b[0mtensor_ones\u001b[0m \u001b[0;34m=\u001b[0m \u001b[0mtorch\u001b[0m\u001b[0;34m.\u001b[0m\u001b[0mones\u001b[0m\u001b[0;34m(\u001b[0m\u001b[0;34m(\u001b[0m\u001b[0;36m1\u001b[0m\u001b[0;34m,\u001b[0m\u001b[0;36m13\u001b[0m\u001b[0;34m)\u001b[0m\u001b[0;34m)\u001b[0m\u001b[0;34m\u001b[0m\u001b[0;34m\u001b[0m\u001b[0m\n\u001b[1;32m      3\u001b[0m \u001b[0mprint\u001b[0m\u001b[0;34m(\u001b[0m\u001b[0;34m\"Tensor with ones: \"\u001b[0m\u001b[0;34m,\u001b[0m\u001b[0mtensor_ones\u001b[0m\u001b[0;34m)\u001b[0m\u001b[0;34m\u001b[0m\u001b[0;34m\u001b[0m\u001b[0m\n\u001b[0;32m----> 4\u001b[0;31m \u001b[0mprint\u001b[0m\u001b[0;34m(\u001b[0m\u001b[0;34m\"Our Linspace tensor: \"\u001b[0m\u001b[0;34m,\u001b[0m\u001b[0mtorch\u001b[0m\u001b[0;34m.\u001b[0m\u001b[0mlinspace\u001b[0m\u001b[0;34m(\u001b[0m\u001b[0;34m-\u001b[0m\u001b[0;36m11\u001b[0m\u001b[0;34m,\u001b[0m\u001b[0;36m7\u001b[0m\u001b[0;34m,\u001b[0m\u001b[0;36m13\u001b[0m\u001b[0;34m,\u001b[0m\u001b[0mout\u001b[0m\u001b[0;34m=\u001b[0m\u001b[0mtensor_ones\u001b[0m\u001b[0;34m,\u001b[0m\u001b[0mdtype\u001b[0m\u001b[0;34m=\u001b[0m\u001b[0mtorch\u001b[0m\u001b[0;34m.\u001b[0m\u001b[0mint32\u001b[0m\u001b[0;34m)\u001b[0m\u001b[0;34m)\u001b[0m\u001b[0;34m\u001b[0m\u001b[0;34m\u001b[0m\u001b[0m\n\u001b[0m\u001b[1;32m      5\u001b[0m \u001b[0mtensor_ones\u001b[0m\u001b[0;34m\u001b[0m\u001b[0;34m\u001b[0m\u001b[0m\n",
            "\u001b[0;31mRuntimeError\u001b[0m: dtype Int does not match dtype of out parameter (Float)"
          ]
        }
      ]
    },
    {
      "cell_type": "markdown",
      "metadata": {
        "id": "SHzpG5RvSSJW"
      },
      "source": [
        "The “out” parameter of torch.linspace() which specifies the desired tensor to be replaced by the values returned from the torch.linspace function. The run-time error “dtype Int does not match dtype of out parameter (Float)” tells us that both the types of tensors should be the same to use the “out” parameter."
      ]
    },
    {
      "cell_type": "markdown",
      "metadata": {
        "id": "htuZjx_0SSJX"
      },
      "source": [
        "orch.linspace can be used to create data in the form of tensors, when we know that the real data lies in particular interval."
      ]
    },
    {
      "cell_type": "code",
      "metadata": {
        "colab": {
          "base_uri": "https://localhost:8080/",
          "height": 123
        },
        "id": "SWTNiCgUSSJX",
        "outputId": "c809eca6-8486-4ed0-8764-c75bbbe89488"
      },
      "source": [
        "jovian.commit(project='01-tensor-operations')"
      ],
      "execution_count": 55,
      "outputs": [
        {
          "output_type": "stream",
          "text": [
            "[jovian] Detected Colab notebook...\u001b[0m\n",
            "[jovian] Uploading colab notebook to Jovian...\u001b[0m\n",
            "[jovian] Capturing environment..\u001b[0m\n",
            "[jovian] Committed successfully! https://jovian.ai/salberthp89/01-tensor-operations\u001b[0m\n"
          ],
          "name": "stdout"
        },
        {
          "output_type": "execute_result",
          "data": {
            "application/vnd.google.colaboratory.intrinsic+json": {
              "type": "string"
            },
            "text/plain": [
              "'https://jovian.ai/salberthp89/01-tensor-operations'"
            ]
          },
          "metadata": {
            "tags": []
          },
          "execution_count": 55
        }
      ]
    },
    {
      "cell_type": "markdown",
      "metadata": {
        "id": "jBESkVd9SSJY"
      },
      "source": [
        "## torch.Tensor.filldiagonal()\n",
        "\n",
        "This function is used to fill the diagonals of the the tensor with a particular value."
      ]
    },
    {
      "cell_type": "code",
      "metadata": {
        "colab": {
          "base_uri": "https://localhost:8080/"
        },
        "id": "UmLBvZ6fSSJZ",
        "outputId": "41962333-fbde-4501-a9b3-29f94ea486f8"
      },
      "source": [
        "# Example 1 - working\r\n",
        "tens1=torch.zeros(3, 3)\r\n",
        "print(tens1)\r\n",
        "tens1.fill_diagonal_(1)"
      ],
      "execution_count": 56,
      "outputs": [
        {
          "output_type": "stream",
          "text": [
            "tensor([[0., 0., 0.],\n",
            "        [0., 0., 0.],\n",
            "        [0., 0., 0.]])\n"
          ],
          "name": "stdout"
        },
        {
          "output_type": "execute_result",
          "data": {
            "text/plain": [
              "tensor([[1., 0., 0.],\n",
              "        [0., 1., 0.],\n",
              "        [0., 0., 1.]])"
            ]
          },
          "metadata": {
            "tags": []
          },
          "execution_count": 56
        }
      ]
    },
    {
      "cell_type": "markdown",
      "metadata": {
        "id": "PbBaL6PSSSJa"
      },
      "source": [
        "This function fills in the value specified as its argument(i.e. 1) as the diagonal value of the tensor(tens1)."
      ]
    },
    {
      "cell_type": "code",
      "metadata": {
        "colab": {
          "base_uri": "https://localhost:8080/"
        },
        "id": "B86REqOUSSJa",
        "outputId": "d37fae65-4e0d-438c-e32a-a5f30562b254"
      },
      "source": [
        "# Example 2 - working\r\n",
        "torch.tensor([[1, 2, 3],[4, 5, 6],[7, 8, 9]])\r\n",
        "torch.tensor([[1, 2, 3],[4, 5, 6],[7, 8, 9]]).fill_diagonal_(0)\r\n"
      ],
      "execution_count": 57,
      "outputs": [
        {
          "output_type": "execute_result",
          "data": {
            "text/plain": [
              "tensor([[0, 2, 3],\n",
              "        [4, 0, 6],\n",
              "        [7, 8, 0]])"
            ]
          },
          "metadata": {
            "tags": []
          },
          "execution_count": 57
        }
      ]
    },
    {
      "cell_type": "markdown",
      "metadata": {
        "id": "oNv57B4XSSJb"
      },
      "source": [
        "function can be directly applied on the tensor or by using a variable as in previous example."
      ]
    },
    {
      "cell_type": "code",
      "metadata": {
        "colab": {
          "base_uri": "https://localhost:8080/",
          "height": 248
        },
        "id": "gRV3eyFvSSJc",
        "outputId": "485cdc09-2023-4471-cdb6-2d6ebb14170b"
      },
      "source": [
        "# Example 3 - breaking (to illustrate when it breaks)\r\n",
        "tens2=torch.tensor([[[1, 2, 3, 4]],[[5, 6, 7, 8]]])\r\n",
        "print(tens2)\r\n",
        "tens2.size()\r\n",
        "tens2.fill_diagonal_(10)"
      ],
      "execution_count": 58,
      "outputs": [
        {
          "output_type": "stream",
          "text": [
            "tensor([[[1, 2, 3, 4]],\n",
            "\n",
            "        [[5, 6, 7, 8]]])\n"
          ],
          "name": "stdout"
        },
        {
          "output_type": "error",
          "ename": "RuntimeError",
          "evalue": "ignored",
          "traceback": [
            "\u001b[0;31m---------------------------------------------------------------------------\u001b[0m",
            "\u001b[0;31mRuntimeError\u001b[0m                              Traceback (most recent call last)",
            "\u001b[0;32m<ipython-input-58-032942234bc1>\u001b[0m in \u001b[0;36m<module>\u001b[0;34m()\u001b[0m\n\u001b[1;32m      3\u001b[0m \u001b[0mprint\u001b[0m\u001b[0;34m(\u001b[0m\u001b[0mtens2\u001b[0m\u001b[0;34m)\u001b[0m\u001b[0;34m\u001b[0m\u001b[0;34m\u001b[0m\u001b[0m\n\u001b[1;32m      4\u001b[0m \u001b[0mtens2\u001b[0m\u001b[0;34m.\u001b[0m\u001b[0msize\u001b[0m\u001b[0;34m(\u001b[0m\u001b[0;34m)\u001b[0m\u001b[0;34m\u001b[0m\u001b[0;34m\u001b[0m\u001b[0m\n\u001b[0;32m----> 5\u001b[0;31m \u001b[0mtens2\u001b[0m\u001b[0;34m.\u001b[0m\u001b[0mfill_diagonal_\u001b[0m\u001b[0;34m(\u001b[0m\u001b[0;36m10\u001b[0m\u001b[0;34m)\u001b[0m\u001b[0;34m\u001b[0m\u001b[0;34m\u001b[0m\u001b[0m\n\u001b[0m",
            "\u001b[0;31mRuntimeError\u001b[0m: all dimensions of input must be of equal length"
          ]
        }
      ]
    },
    {
      "cell_type": "markdown",
      "metadata": {
        "id": "zQ_SN_VYSSJd"
      },
      "source": [
        "The matrix dimension does not satisfy the condition of the diagonal matrix to be imposed with a value."
      ]
    },
    {
      "cell_type": "markdown",
      "metadata": {
        "id": "R3zhMxXCSSJe"
      },
      "source": [
        "This function can be used at any relevant place where a particular diagonal value is to be imposed in the tensor."
      ]
    },
    {
      "cell_type": "code",
      "metadata": {
        "colab": {
          "base_uri": "https://localhost:8080/",
          "height": 123
        },
        "id": "djGNaT4zSSJe",
        "outputId": "253862c0-aad5-42e2-b9ad-5ae0bd2b97cd"
      },
      "source": [
        "jovian.commit(project='01-tensor-operations')"
      ],
      "execution_count": 59,
      "outputs": [
        {
          "output_type": "stream",
          "text": [
            "[jovian] Detected Colab notebook...\u001b[0m\n",
            "[jovian] Uploading colab notebook to Jovian...\u001b[0m\n",
            "[jovian] Capturing environment..\u001b[0m\n",
            "[jovian] Committed successfully! https://jovian.ai/salberthp89/01-tensor-operations\u001b[0m\n"
          ],
          "name": "stdout"
        },
        {
          "output_type": "execute_result",
          "data": {
            "application/vnd.google.colaboratory.intrinsic+json": {
              "type": "string"
            },
            "text/plain": [
              "'https://jovian.ai/salberthp89/01-tensor-operations'"
            ]
          },
          "metadata": {
            "tags": []
          },
          "execution_count": 59
        }
      ]
    },
    {
      "cell_type": "markdown",
      "metadata": {
        "id": "S2udUY1ESSJg"
      },
      "source": [
        "## torch.view(shape)\n",
        "\n",
        "View tensor shares the same underlying data with its base tensor. View avoids explicit data copy, thus allows us to do fast and memory-efficient reshaping, slicing, and element-wise operations."
      ]
    },
    {
      "cell_type": "code",
      "metadata": {
        "colab": {
          "base_uri": "https://localhost:8080/"
        },
        "id": "QhgvQCeLSSJg",
        "outputId": "b95ea5f7-f20b-4869-a217-b1b5a176ed08"
      },
      "source": [
        "# Example 1 - working\r\n",
        "random_tensor = torch.arange(1., 17.)\r\n",
        "print(random_tensor)\r\n",
        "random_tensor.view(8,2)"
      ],
      "execution_count": 60,
      "outputs": [
        {
          "output_type": "stream",
          "text": [
            "tensor([ 1.,  2.,  3.,  4.,  5.,  6.,  7.,  8.,  9., 10., 11., 12., 13., 14.,\n",
            "        15., 16.])\n"
          ],
          "name": "stdout"
        },
        {
          "output_type": "execute_result",
          "data": {
            "text/plain": [
              "tensor([[ 1.,  2.],\n",
              "        [ 3.,  4.],\n",
              "        [ 5.,  6.],\n",
              "        [ 7.,  8.],\n",
              "        [ 9., 10.],\n",
              "        [11., 12.],\n",
              "        [13., 14.],\n",
              "        [15., 16.]])"
            ]
          },
          "metadata": {
            "tags": []
          },
          "execution_count": 60
        }
      ]
    },
    {
      "cell_type": "markdown",
      "metadata": {
        "id": "5zSoZZXzSSJh"
      },
      "source": [
        "we get a copy of the given tensor in a different size on which we can perform operations."
      ]
    },
    {
      "cell_type": "code",
      "metadata": {
        "colab": {
          "base_uri": "https://localhost:8080/"
        },
        "id": "qFX266xoSSJh",
        "outputId": "5430f63b-3f57-4838-d577-17b67e493219"
      },
      "source": [
        "# Example 2 - working\r\n",
        "x = torch.randn(4, 4)\r\n",
        "print(x.size())\r\n",
        "y = x.view(16)\r\n",
        "print(y.size())\r\n",
        "z = x.view(-1, 8)  # the size -1 is inferred from other dimensions\r\n",
        "z.size()"
      ],
      "execution_count": 61,
      "outputs": [
        {
          "output_type": "stream",
          "text": [
            "torch.Size([4, 4])\n",
            "torch.Size([16])\n"
          ],
          "name": "stdout"
        },
        {
          "output_type": "execute_result",
          "data": {
            "text/plain": [
              "torch.Size([2, 8])"
            ]
          },
          "metadata": {
            "tags": []
          },
          "execution_count": 61
        }
      ]
    },
    {
      "cell_type": "markdown",
      "metadata": {
        "id": "8V_IAQUdSSJj"
      },
      "source": [
        "This is another example of using the view function. Here, the -1 is inferred from other dimensions."
      ]
    },
    {
      "cell_type": "code",
      "metadata": {
        "colab": {
          "base_uri": "https://localhost:8080/",
          "height": 367
        },
        "id": "ifHdOmozSSJl",
        "outputId": "ca054034-11c1-4f25-9ded-2243a3066377"
      },
      "source": [
        "# Example 3 - breaking (to illustrate when it breaks)\r\n",
        "random_tensor = torch.randint(100,size=(10,6))\r\n",
        "print(random_tensor)\r\n",
        "random_tensor.view(8,2)"
      ],
      "execution_count": 62,
      "outputs": [
        {
          "output_type": "stream",
          "text": [
            "tensor([[62, 96, 20, 66, 91, 47],\n",
            "        [69, 81, 95, 71, 35, 47],\n",
            "        [32, 65, 24, 44, 54, 26],\n",
            "        [92, 29, 96, 37, 94, 76],\n",
            "        [70, 81, 40, 57, 91, 48],\n",
            "        [84, 86, 42, 42, 50, 37],\n",
            "        [33, 64, 34, 68, 26, 91],\n",
            "        [90, 15, 89, 69, 51, 79],\n",
            "        [81, 16, 60, 65, 96, 37],\n",
            "        [58, 89, 44, 88, 22, 44]])\n"
          ],
          "name": "stdout"
        },
        {
          "output_type": "error",
          "ename": "RuntimeError",
          "evalue": "ignored",
          "traceback": [
            "\u001b[0;31m---------------------------------------------------------------------------\u001b[0m",
            "\u001b[0;31mRuntimeError\u001b[0m                              Traceback (most recent call last)",
            "\u001b[0;32m<ipython-input-62-09245d627e10>\u001b[0m in \u001b[0;36m<module>\u001b[0;34m()\u001b[0m\n\u001b[1;32m      2\u001b[0m \u001b[0mrandom_tensor\u001b[0m \u001b[0;34m=\u001b[0m \u001b[0mtorch\u001b[0m\u001b[0;34m.\u001b[0m\u001b[0mrandint\u001b[0m\u001b[0;34m(\u001b[0m\u001b[0;36m100\u001b[0m\u001b[0;34m,\u001b[0m\u001b[0msize\u001b[0m\u001b[0;34m=\u001b[0m\u001b[0;34m(\u001b[0m\u001b[0;36m10\u001b[0m\u001b[0;34m,\u001b[0m\u001b[0;36m6\u001b[0m\u001b[0;34m)\u001b[0m\u001b[0;34m)\u001b[0m\u001b[0;34m\u001b[0m\u001b[0;34m\u001b[0m\u001b[0m\n\u001b[1;32m      3\u001b[0m \u001b[0mprint\u001b[0m\u001b[0;34m(\u001b[0m\u001b[0mrandom_tensor\u001b[0m\u001b[0;34m)\u001b[0m\u001b[0;34m\u001b[0m\u001b[0;34m\u001b[0m\u001b[0m\n\u001b[0;32m----> 4\u001b[0;31m \u001b[0mrandom_tensor\u001b[0m\u001b[0;34m.\u001b[0m\u001b[0mview\u001b[0m\u001b[0;34m(\u001b[0m\u001b[0;36m8\u001b[0m\u001b[0;34m,\u001b[0m\u001b[0;36m2\u001b[0m\u001b[0;34m)\u001b[0m\u001b[0;34m\u001b[0m\u001b[0;34m\u001b[0m\u001b[0m\n\u001b[0m",
            "\u001b[0;31mRuntimeError\u001b[0m: shape '[8, 2]' is invalid for input of size 60"
          ]
        }
      ]
    },
    {
      "cell_type": "markdown",
      "metadata": {
        "id": "ISLbvTvYSSJl"
      },
      "source": [
        "Here, we get an error because the shape should match the size of the input tensor."
      ]
    },
    {
      "cell_type": "markdown",
      "metadata": {
        "id": "8hhuqAgRSSJm"
      },
      "source": [
        "orch.reshape() function would return a view and is exactly the same as using torch.Tensor.view() as long as the new shape is compatible with the shape of the original tensor. Otherwise, it will return a copy."
      ]
    },
    {
      "cell_type": "code",
      "metadata": {
        "colab": {
          "base_uri": "https://localhost:8080/",
          "height": 123
        },
        "id": "wxXg5sW-SSJn",
        "outputId": "6aeef3f8-cc61-4320-dc9e-36517d23bb95"
      },
      "source": [
        "jovian.commit(project='01-tensor-operations')"
      ],
      "execution_count": 63,
      "outputs": [
        {
          "output_type": "stream",
          "text": [
            "[jovian] Detected Colab notebook...\u001b[0m\n",
            "[jovian] Uploading colab notebook to Jovian...\u001b[0m\n",
            "[jovian] Capturing environment..\u001b[0m\n",
            "[jovian] Committed successfully! https://jovian.ai/salberthp89/01-tensor-operations\u001b[0m\n"
          ],
          "name": "stdout"
        },
        {
          "output_type": "execute_result",
          "data": {
            "application/vnd.google.colaboratory.intrinsic+json": {
              "type": "string"
            },
            "text/plain": [
              "'https://jovian.ai/salberthp89/01-tensor-operations'"
            ]
          },
          "metadata": {
            "tags": []
          },
          "execution_count": 63
        }
      ]
    },
    {
      "cell_type": "markdown",
      "metadata": {
        "id": "v3UjLlGDSSJp"
      },
      "source": [
        "## Conclusion\n",
        "\n",
        "i have covered 5 interestuing functions in pytorch .You can refer to the official documentation for the complete list of available functions.\n",
        "https://pytorch.org/docs/stable/index.html"
      ]
    },
    {
      "cell_type": "markdown",
      "metadata": {
        "id": "v-Le0cXVSSJp"
      },
      "source": [
        "## Reference Links\n",
        "Provide links to your references and other interesting articles about tensors\n",
        "* Official documentation for tensor operations: https://pytorch.org/docs/stable/torch.html\n",
        "* ..."
      ]
    },
    {
      "cell_type": "code",
      "metadata": {
        "colab": {
          "base_uri": "https://localhost:8080/",
          "height": 123
        },
        "id": "6xPWnkbASSJq",
        "outputId": "2fe233c5-072e-4b50-a46a-ba5a15ebc107"
      },
      "source": [
        "jovian.commit(project='01-tensor-operations')"
      ],
      "execution_count": 64,
      "outputs": [
        {
          "output_type": "stream",
          "text": [
            "[jovian] Detected Colab notebook...\u001b[0m\n",
            "[jovian] Uploading colab notebook to Jovian...\u001b[0m\n",
            "[jovian] Capturing environment..\u001b[0m\n",
            "[jovian] Committed successfully! https://jovian.ai/salberthp89/01-tensor-operations\u001b[0m\n"
          ],
          "name": "stdout"
        },
        {
          "output_type": "execute_result",
          "data": {
            "application/vnd.google.colaboratory.intrinsic+json": {
              "type": "string"
            },
            "text/plain": [
              "'https://jovian.ai/salberthp89/01-tensor-operations'"
            ]
          },
          "metadata": {
            "tags": []
          },
          "execution_count": 64
        }
      ]
    },
    {
      "cell_type": "code",
      "metadata": {
        "id": "CivLf7ozSSJr"
      },
      "source": [
        ""
      ],
      "execution_count": null,
      "outputs": []
    }
  ]
}