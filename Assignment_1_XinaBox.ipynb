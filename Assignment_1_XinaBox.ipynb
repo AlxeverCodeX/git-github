{
  "nbformat": 4,
  "nbformat_minor": 0,
  "metadata": {
    "colab": {
      "name": "Assignment_1_XinaBox.ipynb",
      "provenance": [],
      "authorship_tag": "ABX9TyNCDM6JUTpj5eFez4DA25j0",
      "include_colab_link": true
    },
    "kernelspec": {
      "name": "python3",
      "display_name": "Python 3"
    }
  },
  "cells": [
    {
      "cell_type": "markdown",
      "metadata": {
        "id": "view-in-github",
        "colab_type": "text"
      },
      "source": [
        "<a href=\"https://colab.research.google.com/github/AlxeverCodeX/git-github/blob/master/Assignment_1_XinaBox.ipynb\" target=\"_parent\"><img src=\"https://colab.research.google.com/assets/colab-badge.svg\" alt=\"Open In Colab\"/></a>"
      ]
    },
    {
      "cell_type": "code",
      "metadata": {
        "id": "b5FBQArzuMJu"
      },
      "source": [
        "#import important libraries\r\n",
        "import pandas as pd\r\n",
        "import matplotlib.pyplot as plt  #for visualiztion "
      ],
      "execution_count": 1,
      "outputs": []
    },
    {
      "cell_type": "code",
      "metadata": {
        "colab": {
          "base_uri": "https://localhost:8080/"
        },
        "id": "kKlAssRIxYca",
        "outputId": "829267ef-9b8e-454d-8d04-0823f814e25d"
      },
      "source": [
        "#creating a dictionary of the collected data   with a list as its value which will be converted to a table \r\n",
        "data = {'Temperature °C':  [36.7, 37.3, 36.8, 36.6, 37.6, 37.9, 37.5, 37.3, 36.5],\r\n",
        "         'light_intensity lux': [76422, 51860, 12133, 16893, 54377, 57107, 3338, 4460, 17156]}\r\n",
        "df = pd.DataFrame(data,columns=['Temperature °C','light_intensity lux'])\r\n",
        "print (df)"
      ],
      "execution_count": 2,
      "outputs": [
        {
          "output_type": "stream",
          "text": [
            "   Temperature °C  light_intensity lux\n",
            "0            36.7                76422\n",
            "1            37.3                51860\n",
            "2            36.8                12133\n",
            "3            36.6                16893\n",
            "4            37.6                54377\n",
            "5            37.9                57107\n",
            "6            37.5                 3338\n",
            "7            37.3                 4460\n",
            "8            36.5                17156\n"
          ],
          "name": "stdout"
        }
      ]
    },
    {
      "cell_type": "code",
      "metadata": {
        "colab": {
          "base_uri": "https://localhost:8080/",
          "height": 328
        },
        "id": "7sTXn4Qjka_L",
        "outputId": "725af86a-6d87-4d53-d2b9-15c2023bb1c1"
      },
      "source": [
        "df"
      ],
      "execution_count": 3,
      "outputs": [
        {
          "output_type": "execute_result",
          "data": {
            "text/html": [
              "<div>\n",
              "<style scoped>\n",
              "    .dataframe tbody tr th:only-of-type {\n",
              "        vertical-align: middle;\n",
              "    }\n",
              "\n",
              "    .dataframe tbody tr th {\n",
              "        vertical-align: top;\n",
              "    }\n",
              "\n",
              "    .dataframe thead th {\n",
              "        text-align: right;\n",
              "    }\n",
              "</style>\n",
              "<table border=\"1\" class=\"dataframe\">\n",
              "  <thead>\n",
              "    <tr style=\"text-align: right;\">\n",
              "      <th></th>\n",
              "      <th>Temperature °C</th>\n",
              "      <th>light_intensity lux</th>\n",
              "    </tr>\n",
              "  </thead>\n",
              "  <tbody>\n",
              "    <tr>\n",
              "      <th>0</th>\n",
              "      <td>36.7</td>\n",
              "      <td>76422</td>\n",
              "    </tr>\n",
              "    <tr>\n",
              "      <th>1</th>\n",
              "      <td>37.3</td>\n",
              "      <td>51860</td>\n",
              "    </tr>\n",
              "    <tr>\n",
              "      <th>2</th>\n",
              "      <td>36.8</td>\n",
              "      <td>12133</td>\n",
              "    </tr>\n",
              "    <tr>\n",
              "      <th>3</th>\n",
              "      <td>36.6</td>\n",
              "      <td>16893</td>\n",
              "    </tr>\n",
              "    <tr>\n",
              "      <th>4</th>\n",
              "      <td>37.6</td>\n",
              "      <td>54377</td>\n",
              "    </tr>\n",
              "    <tr>\n",
              "      <th>5</th>\n",
              "      <td>37.9</td>\n",
              "      <td>57107</td>\n",
              "    </tr>\n",
              "    <tr>\n",
              "      <th>6</th>\n",
              "      <td>37.5</td>\n",
              "      <td>3338</td>\n",
              "    </tr>\n",
              "    <tr>\n",
              "      <th>7</th>\n",
              "      <td>37.3</td>\n",
              "      <td>4460</td>\n",
              "    </tr>\n",
              "    <tr>\n",
              "      <th>8</th>\n",
              "      <td>36.5</td>\n",
              "      <td>17156</td>\n",
              "    </tr>\n",
              "  </tbody>\n",
              "</table>\n",
              "</div>"
            ],
            "text/plain": [
              "   Temperature °C  light_intensity lux\n",
              "0            36.7                76422\n",
              "1            37.3                51860\n",
              "2            36.8                12133\n",
              "3            36.6                16893\n",
              "4            37.6                54377\n",
              "5            37.9                57107\n",
              "6            37.5                 3338\n",
              "7            37.3                 4460\n",
              "8            36.5                17156"
            ]
          },
          "metadata": {
            "tags": []
          },
          "execution_count": 3
        }
      ]
    },
    {
      "cell_type": "code",
      "metadata": {
        "colab": {
          "base_uri": "https://localhost:8080/",
          "height": 300
        },
        "id": "wC1Wvmfnkc0Z",
        "outputId": "6640069a-0c51-41bd-9e9e-2d44ced34977"
      },
      "source": [
        "Temperature =  [36.7,37.3,36.8,36.6,37.6,37.9,37.5,37.3,36.5]\r\n",
        "light_intensity_lux = [76422,51860,12133,16893,54377,57107,3338,4460,17156]\r\n",
        "plt.plot( light_intensity_lux, Temperature, color='red', marker='o')\r\n",
        "plt.title('The Relationship between Natural Light and Temperature', fontsize=14)\r\n",
        "plt.xlabel('light_intensity_lux', fontsize=14)\r\n",
        "plt.ylabel('Temperature', fontsize=14)\r\n",
        "plt.grid(True)\r\n",
        "plt.show()\r\n"
      ],
      "execution_count": 4,
      "outputs": [
        {
          "output_type": "display_data",
          "data": {
            "image/png": "[encoded data removed]",
            "text/plain": [
              "<Figure size 432x288 with 1 Axes>"
            ]
          },
          "metadata": {
            "tags": [],
            "needs_background": "light"
          }
        }
      ]
    },
    {
      "cell_type": "markdown",
      "metadata": {
        "id": "_OCFec9C03jz"
      },
      "source": [
        "These are the various locations this data was recorded.\r\n",
        "\r\n"
      ]
    },
    {
      "cell_type": "markdown",
      "metadata": {
        "id": "p_iDMj1p_ltw"
      },
      "source": [
        "36.7:\t76422,\r\n",
        "37.3:\t51860\r\n",
        "\r\n",
        "This temperatue and light intensity was picked in a open space outside my home.\r\n",
        "\r\n"
      ]
    },
    {
      "cell_type": "markdown",
      "metadata": {
        "id": "668TtfTUAWjf"
      },
      "source": [
        "36.8: 12133,\r\n",
        "36.6: 16893\r\n",
        "\r\n",
        "This temperature and light intensity was picked under a standard bungalow aluminum roof extension outside the home"
      ]
    },
    {
      "cell_type": "markdown",
      "metadata": {
        "id": "vPCqEJjEA-xJ"
      },
      "source": [
        "37.6: 54377, \r\n",
        "37.9:\t57107\r\n",
        "\r\n",
        "This temperature and light intensity was picked in between two building structures"
      ]
    },
    {
      "cell_type": "markdown",
      "metadata": {
        "id": "BKdx53t40LbK"
      },
      "source": [
        ""
      ]
    },
    {
      "cell_type": "markdown",
      "metadata": {
        "id": "EwY4mf8bBuS3"
      },
      "source": [
        "37.5:\t3338,\r\n",
        "37.3:\t4460\r\n",
        "\r\n",
        "This temperature and light intensity was picked under a low aluminum roof  that is a little bit close to the ground "
      ]
    },
    {
      "cell_type": "markdown",
      "metadata": {
        "id": "4nPwvZM9CZ3U"
      },
      "source": [
        "36.5:\t17156\r\n",
        "\r\n",
        "This temperature and light intensity was picked under a concrete roof extension outside my home"
      ]
    },
    {
      "cell_type": "markdown",
      "metadata": {
        "id": "gMOn4pOsnF4V"
      },
      "source": [
        "Reserach:\r\n",
        "light intensity is used to describe the rate at which light spreads over a given area,some distance from a source.The intensity varies with the distance from the source and the power of the source.\r\n",
        "\r\n"
      ]
    },
    {
      "cell_type": "markdown",
      "metadata": {
        "id": "NxjJYYrRwnGI"
      },
      "source": [
        "Answer to  questions:\r\n",
        "\r\n",
        "• Is there a correlation between natural light intensity and temperature? yes the relationship is the source of the natural light (which is the sun) which when it hits a surface it cause a change in temperature meaning the more the intensity of light the increase in temprature and vice-versa\r\n",
        "\r\n",
        "• Does the same relationship exist with artificial light intensity and temperature? the same relationship also applies here only that the source could be electricity."
      ]
    },
    {
      "cell_type": "code",
      "metadata": {
        "id": "xQ7beT_bwiR3"
      },
      "source": [
        ""
      ],
      "execution_count": null,
      "outputs": []
    }
  ]
}