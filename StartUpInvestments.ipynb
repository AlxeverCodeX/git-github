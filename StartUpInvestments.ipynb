{
 "cells": [
  {
   "cell_type": "code",
   "execution_count": 14,
   "metadata": {},
   "outputs": [],
   "source": [
    "# Importing libaries\n",
    "\n",
    "import numpy as np\n",
    "import pandas as pd\n",
    "import matplotlib.pyplot as plt\n",
    "import seaborn as sns"
   ]
  },
  {
   "cell_type": "code",
   "execution_count": 3,
   "metadata": {},
   "outputs": [],
   "source": [
    "data = pd.read_csv('/home/shivam/Downloads/HDSC/StageF/investments.csv')"
   ]
  },
  {
   "cell_type": "code",
   "execution_count": 4,
   "metadata": {},
   "outputs": [
    {
     "data": {
      "text/html": [
       "<div>\n",
       "<style scoped>\n",
       "    .dataframe tbody tr th:only-of-type {\n",
       "        vertical-align: middle;\n",
       "    }\n",
       "\n",
       "    .dataframe tbody tr th {\n",
       "        vertical-align: top;\n",
       "    }\n",
       "\n",
       "    .dataframe thead th {\n",
       "        text-align: right;\n",
       "    }\n",
       "</style>\n",
       "<table border=\"1\" class=\"dataframe\">\n",
       "  <thead>\n",
       "    <tr style=\"text-align: right;\">\n",
       "      <th></th>\n",
       "      <th>id</th>\n",
       "      <th>funding_round_id</th>\n",
       "      <th>funded_object_id</th>\n",
       "      <th>investor_object_id</th>\n",
       "      <th>created_at</th>\n",
       "      <th>updated_at</th>\n",
       "    </tr>\n",
       "  </thead>\n",
       "  <tbody>\n",
       "    <tr>\n",
       "      <th>0</th>\n",
       "      <td>1</td>\n",
       "      <td>1</td>\n",
       "      <td>c:4</td>\n",
       "      <td>f:1</td>\n",
       "      <td>2007-07-04 04:52:57</td>\n",
       "      <td>2008-02-27 23:14:29</td>\n",
       "    </tr>\n",
       "    <tr>\n",
       "      <th>1</th>\n",
       "      <td>2</td>\n",
       "      <td>1</td>\n",
       "      <td>c:4</td>\n",
       "      <td>f:2</td>\n",
       "      <td>2007-07-04 04:52:57</td>\n",
       "      <td>2008-02-27 23:14:29</td>\n",
       "    </tr>\n",
       "    <tr>\n",
       "      <th>2</th>\n",
       "      <td>3</td>\n",
       "      <td>3</td>\n",
       "      <td>c:5</td>\n",
       "      <td>f:4</td>\n",
       "      <td>2007-05-27 06:09:10</td>\n",
       "      <td>2013-06-28 20:07:23</td>\n",
       "    </tr>\n",
       "    <tr>\n",
       "      <th>3</th>\n",
       "      <td>4</td>\n",
       "      <td>4</td>\n",
       "      <td>c:5</td>\n",
       "      <td>f:1</td>\n",
       "      <td>2007-05-27 06:09:36</td>\n",
       "      <td>2013-06-28 20:07:24</td>\n",
       "    </tr>\n",
       "    <tr>\n",
       "      <th>4</th>\n",
       "      <td>5</td>\n",
       "      <td>4</td>\n",
       "      <td>c:5</td>\n",
       "      <td>f:5</td>\n",
       "      <td>2007-05-27 06:09:36</td>\n",
       "      <td>2013-06-28 20:07:24</td>\n",
       "    </tr>\n",
       "  </tbody>\n",
       "</table>\n",
       "</div>"
      ],
      "text/plain": [
       "   id  funding_round_id funded_object_id investor_object_id  \\\n",
       "0   1                 1              c:4                f:1   \n",
       "1   2                 1              c:4                f:2   \n",
       "2   3                 3              c:5                f:4   \n",
       "3   4                 4              c:5                f:1   \n",
       "4   5                 4              c:5                f:5   \n",
       "\n",
       "            created_at           updated_at  \n",
       "0  2007-07-04 04:52:57  2008-02-27 23:14:29  \n",
       "1  2007-07-04 04:52:57  2008-02-27 23:14:29  \n",
       "2  2007-05-27 06:09:10  2013-06-28 20:07:23  \n",
       "3  2007-05-27 06:09:36  2013-06-28 20:07:24  \n",
       "4  2007-05-27 06:09:36  2013-06-28 20:07:24  "
      ]
     },
     "execution_count": 4,
     "metadata": {},
     "output_type": "execute_result"
    }
   ],
   "source": [
    "data.head()"
   ]
  },
  {
   "cell_type": "code",
   "execution_count": 5,
   "metadata": {},
   "outputs": [
    {
     "data": {
      "text/html": [
       "<div>\n",
       "<style scoped>\n",
       "    .dataframe tbody tr th:only-of-type {\n",
       "        vertical-align: middle;\n",
       "    }\n",
       "\n",
       "    .dataframe tbody tr th {\n",
       "        vertical-align: top;\n",
       "    }\n",
       "\n",
       "    .dataframe thead th {\n",
       "        text-align: right;\n",
       "    }\n",
       "</style>\n",
       "<table border=\"1\" class=\"dataframe\">\n",
       "  <thead>\n",
       "    <tr style=\"text-align: right;\">\n",
       "      <th></th>\n",
       "      <th>id</th>\n",
       "      <th>funding_round_id</th>\n",
       "      <th>funded_object_id</th>\n",
       "      <th>investor_object_id</th>\n",
       "      <th>created_at</th>\n",
       "      <th>updated_at</th>\n",
       "    </tr>\n",
       "  </thead>\n",
       "  <tbody>\n",
       "    <tr>\n",
       "      <th>count</th>\n",
       "      <td>80902.000000</td>\n",
       "      <td>80902.000000</td>\n",
       "      <td>80902</td>\n",
       "      <td>80902</td>\n",
       "      <td>80902</td>\n",
       "      <td>80902</td>\n",
       "    </tr>\n",
       "    <tr>\n",
       "      <th>unique</th>\n",
       "      <td>NaN</td>\n",
       "      <td>NaN</td>\n",
       "      <td>21607</td>\n",
       "      <td>17152</td>\n",
       "      <td>32649</td>\n",
       "      <td>28647</td>\n",
       "    </tr>\n",
       "    <tr>\n",
       "      <th>top</th>\n",
       "      <td>NaN</td>\n",
       "      <td>NaN</td>\n",
       "      <td>c:169876</td>\n",
       "      <td>f:367</td>\n",
       "      <td>2012-07-11 22:48:18</td>\n",
       "      <td>2013-05-10 01:48:44</td>\n",
       "    </tr>\n",
       "    <tr>\n",
       "      <th>freq</th>\n",
       "      <td>NaN</td>\n",
       "      <td>NaN</td>\n",
       "      <td>58</td>\n",
       "      <td>529</td>\n",
       "      <td>36</td>\n",
       "      <td>42</td>\n",
       "    </tr>\n",
       "    <tr>\n",
       "      <th>mean</th>\n",
       "      <td>40451.500000</td>\n",
       "      <td>24020.171257</td>\n",
       "      <td>NaN</td>\n",
       "      <td>NaN</td>\n",
       "      <td>NaN</td>\n",
       "      <td>NaN</td>\n",
       "    </tr>\n",
       "    <tr>\n",
       "      <th>std</th>\n",
       "      <td>23354.540076</td>\n",
       "      <td>15163.034069</td>\n",
       "      <td>NaN</td>\n",
       "      <td>NaN</td>\n",
       "      <td>NaN</td>\n",
       "      <td>NaN</td>\n",
       "    </tr>\n",
       "    <tr>\n",
       "      <th>min</th>\n",
       "      <td>1.000000</td>\n",
       "      <td>1.000000</td>\n",
       "      <td>NaN</td>\n",
       "      <td>NaN</td>\n",
       "      <td>NaN</td>\n",
       "      <td>NaN</td>\n",
       "    </tr>\n",
       "    <tr>\n",
       "      <th>25%</th>\n",
       "      <td>20226.250000</td>\n",
       "      <td>11747.250000</td>\n",
       "      <td>NaN</td>\n",
       "      <td>NaN</td>\n",
       "      <td>NaN</td>\n",
       "      <td>NaN</td>\n",
       "    </tr>\n",
       "    <tr>\n",
       "      <th>50%</th>\n",
       "      <td>40451.500000</td>\n",
       "      <td>22594.500000</td>\n",
       "      <td>NaN</td>\n",
       "      <td>NaN</td>\n",
       "      <td>NaN</td>\n",
       "      <td>NaN</td>\n",
       "    </tr>\n",
       "    <tr>\n",
       "      <th>75%</th>\n",
       "      <td>60676.750000</td>\n",
       "      <td>34794.000000</td>\n",
       "      <td>NaN</td>\n",
       "      <td>NaN</td>\n",
       "      <td>NaN</td>\n",
       "      <td>NaN</td>\n",
       "    </tr>\n",
       "    <tr>\n",
       "      <th>max</th>\n",
       "      <td>80902.000000</td>\n",
       "      <td>57948.000000</td>\n",
       "      <td>NaN</td>\n",
       "      <td>NaN</td>\n",
       "      <td>NaN</td>\n",
       "      <td>NaN</td>\n",
       "    </tr>\n",
       "  </tbody>\n",
       "</table>\n",
       "</div>"
      ],
      "text/plain": [
       "                  id  funding_round_id funded_object_id investor_object_id  \\\n",
       "count   80902.000000      80902.000000            80902              80902   \n",
       "unique           NaN               NaN            21607              17152   \n",
       "top              NaN               NaN         c:169876              f:367   \n",
       "freq             NaN               NaN               58                529   \n",
       "mean    40451.500000      24020.171257              NaN                NaN   \n",
       "std     23354.540076      15163.034069              NaN                NaN   \n",
       "min         1.000000          1.000000              NaN                NaN   \n",
       "25%     20226.250000      11747.250000              NaN                NaN   \n",
       "50%     40451.500000      22594.500000              NaN                NaN   \n",
       "75%     60676.750000      34794.000000              NaN                NaN   \n",
       "max     80902.000000      57948.000000              NaN                NaN   \n",
       "\n",
       "                 created_at           updated_at  \n",
       "count                 80902                80902  \n",
       "unique                32649                28647  \n",
       "top     2012-07-11 22:48:18  2013-05-10 01:48:44  \n",
       "freq                     36                   42  \n",
       "mean                    NaN                  NaN  \n",
       "std                     NaN                  NaN  \n",
       "min                     NaN                  NaN  \n",
       "25%                     NaN                  NaN  \n",
       "50%                     NaN                  NaN  \n",
       "75%                     NaN                  NaN  \n",
       "max                     NaN                  NaN  "
      ]
     },
     "execution_count": 5,
     "metadata": {},
     "output_type": "execute_result"
    }
   ],
   "source": [
    "# EDA - Exploratory Data Analysis\n",
    "\n",
    "data.describe(include='all')"
   ]
  },
  {
   "cell_type": "code",
   "execution_count": 7,
   "metadata": {},
   "outputs": [
    {
     "data": {
      "text/html": [
       "<div>\n",
       "<style scoped>\n",
       "    .dataframe tbody tr th:only-of-type {\n",
       "        vertical-align: middle;\n",
       "    }\n",
       "\n",
       "    .dataframe tbody tr th {\n",
       "        vertical-align: top;\n",
       "    }\n",
       "\n",
       "    .dataframe thead th {\n",
       "        text-align: right;\n",
       "    }\n",
       "</style>\n",
       "<table border=\"1\" class=\"dataframe\">\n",
       "  <thead>\n",
       "    <tr style=\"text-align: right;\">\n",
       "      <th></th>\n",
       "      <th>id</th>\n",
       "      <th>funding_round_id</th>\n",
       "      <th>funded_object_id</th>\n",
       "      <th>investor_object_id</th>\n",
       "      <th>created_at</th>\n",
       "      <th>updated_at</th>\n",
       "    </tr>\n",
       "  </thead>\n",
       "  <tbody>\n",
       "    <tr>\n",
       "      <th>15660</th>\n",
       "      <td>15661</td>\n",
       "      <td>10626</td>\n",
       "      <td>c:38498</td>\n",
       "      <td>f:637</td>\n",
       "      <td>2009-12-24 20:23:04</td>\n",
       "      <td>2011-11-04 01:48:16</td>\n",
       "    </tr>\n",
       "    <tr>\n",
       "      <th>68469</th>\n",
       "      <td>68470</td>\n",
       "      <td>2082</td>\n",
       "      <td>c:4505</td>\n",
       "      <td>p:365</td>\n",
       "      <td>2008-04-20 20:00:19</td>\n",
       "      <td>2013-07-12 22:02:19</td>\n",
       "    </tr>\n",
       "    <tr>\n",
       "      <th>18701</th>\n",
       "      <td>18702</td>\n",
       "      <td>12995</td>\n",
       "      <td>c:42123</td>\n",
       "      <td>f:3924</td>\n",
       "      <td>2010-03-14 18:01:56</td>\n",
       "      <td>2010-03-14 18:01:57</td>\n",
       "    </tr>\n",
       "    <tr>\n",
       "      <th>44450</th>\n",
       "      <td>44451</td>\n",
       "      <td>31862</td>\n",
       "      <td>c:167842</td>\n",
       "      <td>f:7533</td>\n",
       "      <td>2012-08-11 22:24:43</td>\n",
       "      <td>2012-08-12 22:06:01</td>\n",
       "    </tr>\n",
       "    <tr>\n",
       "      <th>42450</th>\n",
       "      <td>42451</td>\n",
       "      <td>30202</td>\n",
       "      <td>c:159624</td>\n",
       "      <td>f:1391</td>\n",
       "      <td>2012-05-28 01:53:23</td>\n",
       "      <td>2012-05-28 01:53:23</td>\n",
       "    </tr>\n",
       "  </tbody>\n",
       "</table>\n",
       "</div>"
      ],
      "text/plain": [
       "          id  funding_round_id funded_object_id investor_object_id  \\\n",
       "15660  15661             10626          c:38498              f:637   \n",
       "68469  68470              2082           c:4505              p:365   \n",
       "18701  18702             12995          c:42123             f:3924   \n",
       "44450  44451             31862         c:167842             f:7533   \n",
       "42450  42451             30202         c:159624             f:1391   \n",
       "\n",
       "                created_at           updated_at  \n",
       "15660  2009-12-24 20:23:04  2011-11-04 01:48:16  \n",
       "68469  2008-04-20 20:00:19  2013-07-12 22:02:19  \n",
       "18701  2010-03-14 18:01:56  2010-03-14 18:01:57  \n",
       "44450  2012-08-11 22:24:43  2012-08-12 22:06:01  \n",
       "42450  2012-05-28 01:53:23  2012-05-28 01:53:23  "
      ]
     },
     "execution_count": 7,
     "metadata": {},
     "output_type": "execute_result"
    }
   ],
   "source": [
    "# Getting the Glimpse of the Dataset\n",
    "data.sample(5)"
   ]
  },
  {
   "cell_type": "code",
   "execution_count": 9,
   "metadata": {},
   "outputs": [
    {
     "name": "stdout",
     "output_type": "stream",
     "text": [
      "<class 'pandas.core.frame.DataFrame'>\n",
      "RangeIndex: 80902 entries, 0 to 80901\n",
      "Data columns (total 6 columns):\n",
      " #   Column              Non-Null Count  Dtype \n",
      "---  ------              --------------  ----- \n",
      " 0   id                  80902 non-null  int64 \n",
      " 1   funding_round_id    80902 non-null  int64 \n",
      " 2   funded_object_id    80902 non-null  object\n",
      " 3   investor_object_id  80902 non-null  object\n",
      " 4   created_at          80902 non-null  object\n",
      " 5   updated_at          80902 non-null  object\n",
      "dtypes: int64(2), object(4)\n",
      "memory usage: 3.7+ MB\n",
      "Info None\n",
      "\n",
      "\n",
      "The dataset contains 80902 rows and 6 columns\n"
     ]
    }
   ],
   "source": [
    "# Printing the Information regarding dataset\n",
    "\n",
    "print(\"Info\",data.info())\n",
    "\n",
    "# No of rows and columns in Dataset\n",
    "print('\\n\\nThe dataset contains {} rows and {} columns'.format(data.shape[0],data.shape[1]))"
   ]
  },
  {
   "cell_type": "code",
   "execution_count": 11,
   "metadata": {},
   "outputs": [
    {
     "data": {
      "text/plain": [
       "id                     int64\n",
       "funding_round_id       int64\n",
       "funded_object_id      object\n",
       "investor_object_id    object\n",
       "created_at            object\n",
       "updated_at            object\n",
       "dtype: object"
      ]
     },
     "execution_count": 11,
     "metadata": {},
     "output_type": "execute_result"
    }
   ],
   "source": [
    "# View the datatypes of each feature\n",
    "data.dtypes"
   ]
  },
  {
   "cell_type": "code",
   "execution_count": 16,
   "metadata": {},
   "outputs": [
    {
     "data": {
      "text/plain": [
       "id                    0\n",
       "funding_round_id      0\n",
       "funded_object_id      0\n",
       "investor_object_id    0\n",
       "created_at            0\n",
       "updated_at            0\n",
       "dtype: int64"
      ]
     },
     "execution_count": 16,
     "metadata": {},
     "output_type": "execute_result"
    }
   ],
   "source": [
    "# Checking for missing values\n",
    "\n",
    "data.isnull().sum()\n",
    "\n",
    "# So we have no null values."
   ]
  },
  {
   "cell_type": "code",
   "execution_count": 13,
   "metadata": {},
   "outputs": [
    {
     "data": {
      "text/html": [
       "<div>\n",
       "<style scoped>\n",
       "    .dataframe tbody tr th:only-of-type {\n",
       "        vertical-align: middle;\n",
       "    }\n",
       "\n",
       "    .dataframe tbody tr th {\n",
       "        vertical-align: top;\n",
       "    }\n",
       "\n",
       "    .dataframe thead th {\n",
       "        text-align: right;\n",
       "    }\n",
       "</style>\n",
       "<table border=\"1\" class=\"dataframe\">\n",
       "  <thead>\n",
       "    <tr style=\"text-align: right;\">\n",
       "      <th></th>\n",
       "      <th>id</th>\n",
       "      <th>funding_round_id</th>\n",
       "    </tr>\n",
       "  </thead>\n",
       "  <tbody>\n",
       "    <tr>\n",
       "      <th>id</th>\n",
       "      <td>1.00000</td>\n",
       "      <td>0.70156</td>\n",
       "    </tr>\n",
       "    <tr>\n",
       "      <th>funding_round_id</th>\n",
       "      <td>0.70156</td>\n",
       "      <td>1.00000</td>\n",
       "    </tr>\n",
       "  </tbody>\n",
       "</table>\n",
       "</div>"
      ],
      "text/plain": [
       "                       id  funding_round_id\n",
       "id                1.00000           0.70156\n",
       "funding_round_id  0.70156           1.00000"
      ]
     },
     "execution_count": 13,
     "metadata": {},
     "output_type": "execute_result"
    }
   ],
   "source": [
    "data.corr()"
   ]
  },
  {
   "cell_type": "code",
   "execution_count": 15,
   "metadata": {},
   "outputs": [
    {
     "data": {
      "text/plain": [
       "<matplotlib.axes._subplots.AxesSubplot at 0x7fc134f36390>"
      ]
     },
     "execution_count": 15,
     "metadata": {},
     "output_type": "execute_result"
    },
    {
     "data": {
      "image/png": "[encoded data removed]",
      "text/plain": [
       "<Figure size 432x288 with 2 Axes>"
      ]
     },
     "metadata": {
      "needs_background": "light"
     },
     "output_type": "display_data"
    }
   ],
   "source": [
    "sns.heatmap(data.corr())"
   ]
  },
  {
   "cell_type": "code",
   "execution_count": 17,
   "metadata": {},
   "outputs": [
    {
     "data": {
      "text/plain": [
       "<seaborn.axisgrid.PairGrid at 0x7fc132652fd0>"
      ]
     },
     "execution_count": 17,
     "metadata": {},
     "output_type": "execute_result"
    },
    {
     "data": {
      "image/png": "[encoded data removed]",
      "text/plain": [
       "<Figure size 360x360 with 6 Axes>"
      ]
     },
     "metadata": {
      "needs_background": "light"
     },
     "output_type": "display_data"
    }
   ],
   "source": [
    "sns.pairplot(data)"
   ]
  },
  {
   "cell_type": "code",
   "execution_count": null,
   "metadata": {},
   "outputs": [],
   "source": []
  }
 ],
 "metadata": {
  "kernelspec": {
   "display_name": "Python 3",
   "language": "python",
   "name": "python3"
  },
  "language_info": {
   "codemirror_mode": {
    "name": "ipython",
    "version": 3
   },
   "file_extension": ".py",
   "mimetype": "text/x-python",
   "name": "python",
   "nbconvert_exporter": "python",
   "pygments_lexer": "ipython3",
   "version": "3.7.6"
  }
 },
 "nbformat": 4,
 "nbformat_minor": 4
}
